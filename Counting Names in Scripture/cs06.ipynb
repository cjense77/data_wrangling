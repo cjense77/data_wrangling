{
 "cells": [
  {
   "cell_type": "raw",
   "metadata": {},
   "source": [
    "<script>\n",
    "  function code_toggle() {\n",
    "    if (code_shown){\n",
    "      $('div.input').hide('500');\n",
    "      $('#toggleButton').val('Show Code')\n",
    "    } else {\n",
    "      $('div.input').show('500');\n",
    "      $('#toggleButton').val('Hide Code')\n",
    "    }\n",
    "    code_shown = !code_shown\n",
    "  }\n",
    "\n",
    "  $( document ).ready(function(){\n",
    "    code_shown=false;\n",
    "    $('div.input').hide()\n",
    "  });\n",
    "</script>\n",
    "<form action=\"javascript:code_toggle()\"><input type=\"submit\" id=\"toggleButton\" value=\"Show Code\"></form>"
   ]
  },
  {
   "cell_type": "markdown",
   "metadata": {},
   "source": [
    "# Counting Names in Scripture"
   ]
  },
  {
   "cell_type": "code",
   "execution_count": 1,
   "metadata": {
    "collapsed": true
   },
   "outputs": [],
   "source": [
    "import pandas as pd\n",
    "import numpy as np\n",
    "\n",
    "# Load initial data\n",
    "scriptures = pd.read_csv(\"scriptures.csv\")\n",
    "names = pd.read_csv(\"savior_names.csv\")\n",
    "\n",
    "# Isolate BOM data\n",
    "bom = scriptures.loc[scriptures.volume_title == \"Book of Mormon\", ['book_title', 'scripture_text']]\n",
    "\n",
    "# Group the 14 books together with all verses together\n",
    "bom_books = bom.groupby('book_title')['scripture_text'].apply(lambda x: \" \".join(x))\n",
    "bom = pd.DataFrame(bom_books)\n",
    "bom.reset_index(level=0, inplace=True)\n",
    "\n",
    "# Replace the names of the Saviour with an ID\n",
    "for name in names['name']:\n",
    "    bom['scripture_text'] = bom['scripture_text'].str.replace(name, \"<<name>>\")\n",
    "\n",
    "# Split on each name location\n",
    "bom['scripture_text'] = bom['scripture_text'].str.split(\"<<name>>\")\n",
    "\n",
    "# Put each gap between references to the Saviour\n",
    "# on its own row\n",
    "gaps = bom.apply(lambda x: pd.Series(x['scripture_text']),axis=1).stack().reset_index(level=1, drop=True)\n",
    "gaps.name = 'gaps'\n",
    "bom = bom.drop('scripture_text', axis=1).join(gaps).reset_index(level=0)\n",
    "\n",
    "# Calculte the average length\n",
    "bom['length'] = bom['gaps'].str.split(\" \").str.len()\n",
    "average_lengths = bom.groupby('book_title').mean().sort_values('length').drop('index', axis=1)"
   ]
  },
  {
   "cell_type": "code",
   "execution_count": 2,
   "metadata": {},
   "outputs": [
    {
     "data": {
      "text/html": [
       "<div>\n",
       "<style>\n",
       "    .dataframe thead tr:only-child th {\n",
       "        text-align: right;\n",
       "    }\n",
       "\n",
       "    .dataframe thead th {\n",
       "        text-align: left;\n",
       "    }\n",
       "\n",
       "    .dataframe tbody tr th {\n",
       "        vertical-align: top;\n",
       "    }\n",
       "</style>\n",
       "<table border=\"1\" class=\"dataframe\">\n",
       "  <thead>\n",
       "    <tr style=\"text-align: right;\">\n",
       "      <th></th>\n",
       "      <th>length</th>\n",
       "    </tr>\n",
       "    <tr>\n",
       "      <th>book_title</th>\n",
       "      <th></th>\n",
       "    </tr>\n",
       "  </thead>\n",
       "  <tbody>\n",
       "    <tr>\n",
       "      <th>Moroni</th>\n",
       "      <td>34.552486</td>\n",
       "    </tr>\n",
       "    <tr>\n",
       "      <th>4 Nephi</th>\n",
       "      <td>45.204545</td>\n",
       "    </tr>\n",
       "    <tr>\n",
       "      <th>Enos</th>\n",
       "      <td>49.041667</td>\n",
       "    </tr>\n",
       "    <tr>\n",
       "      <th>Mormon</th>\n",
       "      <td>49.304124</td>\n",
       "    </tr>\n",
       "    <tr>\n",
       "      <th>2 Nephi</th>\n",
       "      <td>49.986555</td>\n",
       "    </tr>\n",
       "    <tr>\n",
       "      <th>Words of Mormon</th>\n",
       "      <td>54.437500</td>\n",
       "    </tr>\n",
       "    <tr>\n",
       "      <th>1 Nephi</th>\n",
       "      <td>54.833693</td>\n",
       "    </tr>\n",
       "    <tr>\n",
       "      <th>Jacob</th>\n",
       "      <td>59.422078</td>\n",
       "    </tr>\n",
       "    <tr>\n",
       "      <th>3 Nephi</th>\n",
       "      <td>63.336980</td>\n",
       "    </tr>\n",
       "    <tr>\n",
       "      <th>Omni</th>\n",
       "      <td>64.409091</td>\n",
       "    </tr>\n",
       "    <tr>\n",
       "      <th>Mosiah</th>\n",
       "      <td>68.264642</td>\n",
       "    </tr>\n",
       "    <tr>\n",
       "      <th>Ether</th>\n",
       "      <td>73.371179</td>\n",
       "    </tr>\n",
       "    <tr>\n",
       "      <th>Jarom</th>\n",
       "      <td>82.111111</td>\n",
       "    </tr>\n",
       "    <tr>\n",
       "      <th>Alma</th>\n",
       "      <td>83.956905</td>\n",
       "    </tr>\n",
       "    <tr>\n",
       "      <th>Helaman</th>\n",
       "      <td>97.657143</td>\n",
       "    </tr>\n",
       "  </tbody>\n",
       "</table>\n",
       "</div>"
      ],
      "text/plain": [
       "                    length\n",
       "book_title                \n",
       "Moroni           34.552486\n",
       "4 Nephi          45.204545\n",
       "Enos             49.041667\n",
       "Mormon           49.304124\n",
       "2 Nephi          49.986555\n",
       "Words of Mormon  54.437500\n",
       "1 Nephi          54.833693\n",
       "Jacob            59.422078\n",
       "3 Nephi          63.336980\n",
       "Omni             64.409091\n",
       "Mosiah           68.264642\n",
       "Ether            73.371179\n",
       "Jarom            82.111111\n",
       "Alma             83.956905\n",
       "Helaman          97.657143"
      ]
     },
     "execution_count": 2,
     "metadata": {},
     "output_type": "execute_result"
    }
   ],
   "source": [
    "average_lengths"
   ]
  },
  {
   "cell_type": "code",
   "execution_count": 3,
   "metadata": {},
   "outputs": [
    {
     "name": "stderr",
     "output_type": "stream",
     "text": [
      "/anaconda/lib/python3.6/site-packages/statsmodels/compat/pandas.py:56: FutureWarning: The pandas.core.datetools module is deprecated and will be removed in a future version. Please use the pandas.tseries module instead.\n",
      "  from pandas.core import datetools\n"
     ]
    },
    {
     "data": {
      "image/png": "[encoded data removed]",
      "text/plain": [
       "<matplotlib.figure.Figure at 0x11c131908>"
      ]
     },
     "metadata": {},
     "output_type": "display_data"
    },
    {
     "data": {
      "text/plain": [
       "<ggplot: (284733381)>"
      ]
     },
     "execution_count": 3,
     "metadata": {},
     "output_type": "execute_result"
    }
   ],
   "source": [
    "from plotnine import *\n",
    "\n",
    "(ggplot(bom, aes(x='book_title',y='length')) +\n",
    " geom_point())"
   ]
  },
  {
   "cell_type": "code",
   "execution_count": 52,
   "metadata": {},
   "outputs": [
    {
     "data": {
      "text/plain": [
       "pandas.core.frame.DataFrame"
      ]
     },
     "execution_count": 52,
     "metadata": {},
     "output_type": "execute_result"
    }
   ],
   "source": [
    "import pandas as pd\n",
    "import numpy as np\n",
    "\n",
    "# Load initial data\n",
    "scriptures = pd.read_csv(\"scriptures.csv\")\n",
    "names = pd.read_csv(\"savior_names.csv\")\n",
    "\n",
    "# Isolate BOM data\n",
    "bom = scriptures.loc[scriptures.volume_title == \"Book of Mormon\", ['book_title', 'scripture_text']]\n",
    "\n",
    "# Group the 14 books together with all verses together\n",
    "bom_books = bom.groupby('book_title')['scripture_text'].apply(lambda x: \" \".join(x))\n",
    "bom = pd.DataFrame(bom_books)\n",
    "bom.reset_index(level=0, inplace=True)\n",
    "\n",
    "# Replace the names of the Saviour with an ID\n",
    "for name in names['name']:\n",
    "    bom['scripture_text'] = bom['scripture_text'].str.replace(name, \"<<name>>\")\n",
    "\n",
    "# Split on each name location\n",
    "bom['scripture_text'] = bom['scripture_text'].str.split(\"<<name>>\")\n",
    "\n",
    "# Put each gap between references to the Saviour\n",
    "# on its own row\n",
    "gaps = bom.apply(lambda x: pd.Series(x['scripture_text']), axis=1).stack().reset_index(level=1, drop=True)\n",
    "gaps.name = 'gaps'\n",
    "bom.drop('scripture_text', axis=1).join()\n",
    "\n",
    "# Calculte the average length\n",
    "#bom['length'] = bom['gaps'].str.split(\" \").str.len()\n",
    "#average_lengths = bom.groupby('book_title').mean().sort_values('length').drop('index', axis=1)"
   ]
  },
  {
   "cell_type": "code",
   "execution_count": null,
   "metadata": {
    "collapsed": true
   },
   "outputs": [],
   "source": [
    "gaps"
   ]
  },
  {
   "cell_type": "code",
   "execution_count": null,
   "metadata": {
    "collapsed": true
   },
   "outputs": [],
   "source": [
    "x = [\"\"]"
   ]
  }
 ],
 "metadata": {
  "kernelspec": {
   "display_name": "Python 3",
   "language": "python",
   "name": "python3"
  },
  "language_info": {
   "codemirror_mode": {
    "name": "ipython",
    "version": 3
   },
   "file_extension": ".py",
   "mimetype": "text/x-python",
   "name": "python",
   "nbconvert_exporter": "python",
   "pygments_lexer": "ipython3",
   "version": "3.6.3"
  }
 },
 "nbformat": 4,
 "nbformat_minor": 2
}
